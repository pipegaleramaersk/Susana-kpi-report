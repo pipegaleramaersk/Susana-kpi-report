{
 "cells": [
  {
   "cell_type": "markdown",
   "metadata": {},
   "source": [
    "# DEI Diversity Metrics report\n",
    "\n",
    "- KPI 1: Percentage of teams with less than 30% representation of a gender within the team. Gender is limited to 'Female' and 'Male'.\n",
    "- KPI 2: Percentage of teams with more than 30% representation of on a certain nationality within the team.\n",
    "\n",
    "- Ruled out: every employee that do not report to a CEO-3 UID and every employee with +2 Job Levels distance with their manager.\n",
    "  \n",
    "\n",
    "# Metodology details\n",
    "\n",
    "- Please note that given the current Workday structure leaders are not included in the KPIs of the teams that they lead (e.g. Pete Jaworski do not count in the KPIs of PD&A team, but he does for Shalini Natara's team)\n",
    "  \n",
    "- Teams with more less than 5 people are included in the analysis. Meaning that we can find, for example, 100% Male teams in Teams of only 2 males - and they are part of the KPI. Removing them would imply cutting by more than half the number of teams for the analysis (252 out of 419 teams have less than 5 members)\n",
    "\n",
    "- Some Job levels are not accurate (e.g. managers with Job Level 0). In cases that the difference of the Job Level of the UID with the manager is negative because of this, it is assumed that the job distance is less than 2 and therefore keep in the KPI analysis. Example: An employee has a JL 4, her Manager has a JL 0, I assumed that the distance is not more than 2 job levels and keep them for analysis. \n",
    "\n",
    "- 415 Teams were considered for the Gender analysis, as there are 4 teams with all their members missing gender or being unknown.\n",
    "\n",
    "- 407 Teams were considered for the Nationality KPI, as for 12 teams their most representative in percentage terms Nationality was 'Unknown'.\n",
    "\n",
    "# Data details\n",
    "\n",
    "- Raw Workday/Point dataset: 64,960 employees (filter details below).\n",
    "- Processed dataset after filtering out everyone that do not report to CEO-3+, and removing employees with +2 Job Levels distance with their manager: 2159 employees\n",
    "- Teams in Point is determined as \"Organizational Unit Title\".\n",
    "- 419 Teams are left with the above restrictions in those 2159 employees.\n",
    "\n",
    "\n",
    "\n",
    "# Data Source details\n",
    "\n",
    "Point Power BI filter details:\n",
    "\n",
    "- Data source: Azure Analysis Services (Point)\n",
    "- Data extraction date: 05/10/2022 - 17:01:15\n",
    "- Employee Unique ID: is not black\n",
    "- Employment Status: Active\n",
    "- Organisation Level 01 Title: APMM CEO\n",
    "- Organisation Level 02 Title: A.P.Moller Maersk\n",
    "- Year: 2022\n",
    "- Report Month: 2022, September"
   ]
  },
  {
   "cell_type": "code",
   "execution_count": 1,
   "metadata": {},
   "outputs": [],
   "source": [
    "import warnings\n",
    "warnings.filterwarnings('ignore')\n",
    "import pandas as pd\n",
    "import numpy as np"
   ]
  },
  {
   "cell_type": "code",
   "execution_count": 2,
   "metadata": {},
   "outputs": [],
   "source": [
    "raw_data = pd.read_excel('raw_data/point_data.xlsx')"
   ]
  },
  {
   "cell_type": "code",
   "execution_count": 3,
   "metadata": {},
   "outputs": [
    {
     "name": "stdout",
     "output_type": "stream",
     "text": [
      "Number of employees in the Workday dataset: 64960\n"
     ]
    }
   ],
   "source": [
    "print('Number of employees in the Workday dataset:', raw_data.shape[0])"
   ]
  },
  {
   "cell_type": "code",
   "execution_count": 146,
   "metadata": {},
   "outputs": [],
   "source": [
    "def prepare_point_data(raw_data):\n",
    "\n",
    "    df = raw_data.copy()\n",
    "\n",
    "    # Remove the last 3 rows (summary & total rows from the data extract)\n",
    "    df = df.iloc[:-3]\n",
    "\n",
    "\n",
    "    # Get Manager Job Levels (Metric not implemented in our HR system \"Point\")\n",
    "    manager_job_levels = df[['Employee Unique ID', 'Job Level']]\n",
    "    manager_job_levels.rename({'Employee Unique ID': 'ManagerUniqueID','Job Level': 'Manager Job Level'}, \n",
    "                            axis=1,\n",
    "                            inplace=True)\n",
    "    df = df.merge(manager_job_levels, on = 'ManagerUniqueID', how='left')\n",
    "\n",
    "    # Get CEO level (Metric not implemented in our HR system \"Point\")\n",
    "    cond_1 = (df['Organisation Level 03 Title'].isna())\n",
    "    cond_2 = (~df['Organisation Level 03 Title'].isna() & df['Organisation Level 04 Title'].isna())\n",
    "    cond_3 = (~df['Organisation Level 03 Title'].isna() & ~df['Organisation Level 04 Title'].isna() & df['Organisation Level 05 Title'].isna())\n",
    "    cond_4 = (~df['Organisation Level 03 Title'].isna() & ~df['Organisation Level 04 Title'].isna() & ~df['Organisation Level 05 Title'].isna() & df['Organisation Level 06 Title'].isna())\n",
    "\n",
    "    df['CEO Level'] = np.where(cond_1, 'CEO-1', np.nan)\n",
    "    df['CEO Level'] = np.where(cond_2, 'CEO-2', df['CEO Level'])\n",
    "    df['CEO Level'] = np.where(cond_3, 'CEO-3', df['CEO Level'])\n",
    "    df['CEO Level'] = np.where(cond_4, 'CEO-4', df['CEO Level'])\n",
    "\n",
    "    # Analysis is capped to teams that report to teams that report to CEO-3 (CEO-4 and up)\n",
    "    df['CEO Level'] = df['CEO Level'].replace('nan', np.nan)\n",
    "    df = df[~df['CEO Level'].isna()].reset_index(drop=True)\n",
    "\n",
    "    # Analysis is capped to -1 or 2 JLs from the head of the team \n",
    "    df['Job Level Difference with Manager'] = df['Manager Job Level'] - df['Job Level']\n",
    "    \n",
    "    cond_5 = df['Job Level Difference with Manager'] <= 2\n",
    "    cond_6 = (df['Job Level Difference with Manager'].isna()) # If we don't have the diff, we cannot rule them out\n",
    "    \n",
    "    df = df[cond_5 | cond_6]\n",
    "\n",
    "    # Add Headcount\n",
    "    df['Headcount'] = 1\n",
    "    \n",
    "    # Replace NaN nationalities with an 'Unknown' indicator\n",
    "    df['Nationality ID'] = df['Nationality ID'].fillna('Unknown')\n",
    "\n",
    "    # Slice the relevant fields\n",
    "    df = df[['Headcount', 'Employee Unique ID', 'Gender', 'Nationality ID', \n",
    "             'ManagerUniqueID', 'CEO Level', 'Organisational Unit Title', \n",
    "             'Job Level', 'Manager Job Level', 'Job Level Difference with Manager']].reset_index(drop=True)\n",
    "\n",
    "    return df\n",
    "\n",
    "processed_data = prepare_point_data(raw_data)\n"
   ]
  },
  {
   "cell_type": "code",
   "execution_count": 147,
   "metadata": {},
   "outputs": [
    {
     "name": "stdout",
     "output_type": "stream",
     "text": [
      "Number of employees after filtering: 2159\n"
     ]
    }
   ],
   "source": [
    "print('Number of employees after filtering:', processed_data.shape[0])"
   ]
  },
  {
   "cell_type": "code",
   "execution_count": 151,
   "metadata": {},
   "outputs": [],
   "source": [
    "def gender_kpi(processed_data):\n",
    "        \n",
    "    df_filtered = processed_data.copy()\n",
    "    \n",
    "    # Limiting the analysis to Female and Male composition, as gathering other genders dataset is \n",
    "    # still being implemented in Workday and it is not well-spread. This wwould limit data quality issues as well. \n",
    "    df_filtered = df_filtered[df_filtered['Gender'].isin(['Male', 'Female'])]\n",
    "\n",
    "    table_teams_by_gender = (df_filtered.groupby(['Organisational Unit Title']).Gender\n",
    "    .value_counts(normalize=True)\n",
    "    .unstack(fill_value=0)\n",
    "    .stack()\n",
    "    .reset_index(name='Percentage of Gender')\n",
    "    )\n",
    "\n",
    "    number_teams_less_30 = table_teams_by_gender[table_teams_by_gender['Percentage of Gender'] < .3].shape[0]\n",
    "    number_teams_total = len(table_teams_by_gender['Organisational Unit Title'].unique())\n",
    "\n",
    "    kpi_gender = (number_teams_less_30 / number_teams_total) * 100\n",
    "\n",
    "\n",
    "    # From the less represented gender teams, how many times is 'Female' that gender? \n",
    "    teams_less_30 = table_teams_by_gender[table_teams_by_gender['Percentage of Gender'] < .3]\n",
    "    number_teams_less_30_female = teams_less_30[teams_less_30['Gender'] == 'Female'].shape[0]\n",
    "\n",
    "    kpi_gender_females_perc = (number_teams_less_30_female/number_teams_less_30) * 100\n",
    "\n",
    "    # KPI prints\n",
    "    print(number_teams_less_30, \n",
    "            \"Teams have less than 30% of one gender within their teams from a total of\", \n",
    "            number_teams_total, \n",
    "            \"teams analyzed (\",\n",
    "            round(kpi_gender,2),\n",
    "            \"%)\")\n",
    "        \n",
    "    print(\"-> Of the {} teams with less than 30% of one gender representation, \".format(number_teams_less_30),\n",
    "        \"in {} % of the cases the gender underrepresented is 'Female'.\".format(round(kpi_gender_females_perc,2)))"
   ]
  },
  {
   "cell_type": "code",
   "execution_count": 152,
   "metadata": {},
   "outputs": [
    {
     "name": "stdout",
     "output_type": "stream",
     "text": [
      "273 Teams have less than 30% of one gender within their teams from a total of 415 teams analyzed ( 65.78 %)\n",
      "-> Of the 273 teams with less than 30% of one gender representation,  in 77.29 % of the cases the gender underpressented is 'Female'.\n"
     ]
    }
   ],
   "source": [
    "gender_kpi(processed_data)"
   ]
  },
  {
   "cell_type": "code",
   "execution_count": 189,
   "metadata": {},
   "outputs": [],
   "source": [
    "def nationality_kpi(processed_data):\n",
    "\n",
    "    df_filtered = processed_data.copy()\n",
    "\n",
    "    table_teams_by_nationality = (df_filtered.groupby(['Organisational Unit Title'])['Nationality ID']\n",
    "                                                    .value_counts(normalize=True)\n",
    "                                                    .reset_index(name='Percentage of Nationality'))\n",
    "\n",
    "\n",
    "    # We sort the values by % of the nationalities and keep only the highest, as it is the only one needed for the KPI                                                \n",
    "    table_teams_by_nationality = table_teams_by_nationality.sort_values(by=['Organisational Unit Title', 'Percentage of Nationality'])\n",
    "    table_teams_by_nationality = table_teams_by_nationality.drop_duplicates(subset='Organisational Unit Title', keep='last')\n",
    "\n",
    "    # Removing the teams with 'Unknown' being the highest represented Nationality\n",
    "    table_teams_by_nationality = table_teams_by_nationality[~(table_teams_by_nationality['Nationality ID'] == 'Unknown')]\n",
    "\n",
    "    # Count the number of them that are over the 30% KPI thresshold\n",
    "    teams_more_than_30 = table_teams_by_nationality[table_teams_by_nationality['Percentage of Nationality'] > .3]\n",
    "\n",
    "    # KPI calculation\n",
    "    number_teams_more_30 = teams_more_than_30.shape[0]\n",
    "    number_teams_total = len(table_teams_by_nationality['Organisational Unit Title'].unique())\n",
    "\n",
    "    kpi_nationality = (number_teams_more_30 / number_teams_total) * 100\n",
    "\n",
    "    print(number_teams_more_30, \n",
    "        \"Teams have more than 30% of one nationality within their teams from a total of\", \n",
    "        number_teams_total, \n",
    "        \"teams analyzed (\",\n",
    "        round(kpi_nationality,2),\n",
    "        \"%)\")\n",
    "\n"
   ]
  },
  {
   "cell_type": "code",
   "execution_count": 190,
   "metadata": {},
   "outputs": [
    {
     "name": "stdout",
     "output_type": "stream",
     "text": [
      "335 Teams have more than 30% of one nationality within their teams from a total of 407 teams analyzed ( 82.31 %)\n"
     ]
    }
   ],
   "source": [
    "nationality_kpi(processed_data)"
   ]
  }
 ],
 "metadata": {
  "kernelspec": {
   "display_name": "Python 3.8.3 ('base')",
   "language": "python",
   "name": "python3"
  },
  "language_info": {
   "codemirror_mode": {
    "name": "ipython",
    "version": 3
   },
   "file_extension": ".py",
   "mimetype": "text/x-python",
   "name": "python",
   "nbconvert_exporter": "python",
   "pygments_lexer": "ipython3",
   "version": "3.8.3"
  },
  "orig_nbformat": 4,
  "vscode": {
   "interpreter": {
    "hash": "20743bd8a4303d075d0415b0634a03bab569677ce2b8a237070858ec1d729550"
   }
  }
 },
 "nbformat": 4,
 "nbformat_minor": 2
}
